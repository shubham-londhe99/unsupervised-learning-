{
 "cells": [
  {
   "cell_type": "code",
   "execution_count": 48,
   "metadata": {},
   "outputs": [],
   "source": [
    "import numpy as np\n",
    "import pandas as pd"
   ]
  },
  {
   "cell_type": "code",
   "execution_count": 49,
   "metadata": {},
   "outputs": [
    {
     "data": {
      "text/plain": [
       "array([[2, 3],\n",
       "       [1, 3],\n",
       "       [5, 7],\n",
       "       [4, 8],\n",
       "       [2, 4]])"
      ]
     },
     "execution_count": 49,
     "metadata": {},
     "output_type": "execute_result"
    }
   ],
   "source": [
    "samp=np.array([[2,3],[1,3],[5,7],[4,8],[2,4]])\n",
    "samp"
   ]
  },
  {
   "cell_type": "code",
   "execution_count": 50,
   "metadata": {},
   "outputs": [],
   "source": [
    "#Step 1: Choose the number of cluster K\n",
    "k=2"
   ]
  },
  {
   "cell_type": "code",
   "execution_count": 51,
   "metadata": {},
   "outputs": [
    {
     "data": {
      "text/plain": [
       "(array([2, 3]), array([1, 3]))"
      ]
     },
     "execution_count": 51,
     "metadata": {},
     "output_type": "execute_result"
    }
   ],
   "source": [
    "#Step 2: Choose the intial centroid randomly (pick any two observation as initial centroid as k =2)\n",
    "cent1=samp[0]  #cent1=samp[np.random.randint(5)]\n",
    "cent2=samp[1]\n",
    "cent1,cent2"
   ]
  },
  {
   "cell_type": "code",
   "execution_count": 52,
   "metadata": {},
   "outputs": [
    {
     "data": {
      "text/plain": [
       "array([[ 0,  1],\n",
       "       [ 1,  0],\n",
       "       [25, 32],\n",
       "       [29, 34],\n",
       "       [ 1,  2]], dtype=int32)"
      ]
     },
     "execution_count": 52,
     "metadata": {},
     "output_type": "execute_result"
    }
   ],
   "source": [
    "#Step 3: Find the distance between each observation and centroids using eucledian distance\n",
    "d1=np.sum((samp-cent1)**2,1)\n",
    "d2=np.sum((samp-cent2)**2,1)\n",
    "dist=np.vstack([d1,d2]).T\n",
    "dist"
   ]
  },
  {
   "cell_type": "code",
   "execution_count": 53,
   "metadata": {},
   "outputs": [],
   "source": [
    "#Step 4: Cluster the observations based on minimum distance\n",
    "pos=dist.argmin(axis=1)\n",
    "clust1=samp[pos==0]\n",
    "clust2=samp[pos==1]"
   ]
  },
  {
   "cell_type": "code",
   "execution_count": 54,
   "metadata": {},
   "outputs": [
    {
     "data": {
      "text/plain": [
       "(array([3.25, 5.5 ]), array([1., 3.]))"
      ]
     },
     "execution_count": 54,
     "metadata": {},
     "output_type": "execute_result"
    }
   ],
   "source": [
    "#Step 5: Update the centroid for each culster by taking the mean of samples in each cluster\n",
    "cent1=clust1.mean(axis=0)\n",
    "cent2=clust2.mean(axis=0)\n",
    "cent1,cent2"
   ]
  },
  {
   "cell_type": "code",
   "execution_count": 55,
   "metadata": {},
   "outputs": [],
   "source": [
    "#Step 6: Check if two consecutive centroids are same, if not continue the process from step3\n",
    "# Loop the process until both centroid are same or the iteration condition was satisfied"
   ]
  },
  {
   "cell_type": "code",
   "execution_count": 56,
   "metadata": {},
   "outputs": [
    {
     "name": "stdout",
     "output_type": "stream",
     "text": [
      "[3.25 5.5 ] [1. 3.]\n",
      "[4.5 7.5] [1.66666667 3.33333333]\n"
     ]
    }
   ],
   "source": [
    "itr=0\n",
    "while (itr<10):\n",
    "    #Step 3: Find the distance between each observation and centroids using eucledian distance\n",
    "    d1=np.sum((samp-cent1)**2,1)\n",
    "    d2=np.sum((samp-cent2)**2,1)\n",
    "    dist=np.vstack([d1,d2]).T\n",
    "\n",
    "    #Step 4: Cluster the observations based on minimum distance\n",
    "    pos=dist.argmin(axis=1)\n",
    "    clust1=samp[pos==0]\n",
    "    clust2=samp[pos==1]\n",
    "\n",
    "    #Step 5: Update the centroid for each culster by taking the mean of samples in each cluster\n",
    "    cent1_upd=clust1.mean(axis=0)\n",
    "    cent2_upd=clust2.mean(axis=0)\n",
    "    print(cent1,cent2)\n",
    "    \n",
    "    #Step 6: Check if two consecutive centroids are same, if not continue the process from step3\n",
    "    # Loop the process until both centroid are same or the iteration condition was satisfied\n",
    "    if ((cent1==cent1_upd).all() & (cent2==cent2_upd).all()):\n",
    "        break\n",
    "    \n",
    "    cent1=cent1_upd\n",
    "    cent2=cent2_upd\n",
    "    \n",
    "    itr=itr+1\n"
   ]
  },
  {
   "cell_type": "code",
   "execution_count": 57,
   "metadata": {},
   "outputs": [],
   "source": [
    "# Lets do with real data"
   ]
  },
  {
   "cell_type": "code",
   "execution_count": 58,
   "metadata": {},
   "outputs": [
    {
     "data": {
      "text/html": [
       "<div>\n",
       "<style scoped>\n",
       "    .dataframe tbody tr th:only-of-type {\n",
       "        vertical-align: middle;\n",
       "    }\n",
       "\n",
       "    .dataframe tbody tr th {\n",
       "        vertical-align: top;\n",
       "    }\n",
       "\n",
       "    .dataframe thead th {\n",
       "        text-align: right;\n",
       "    }\n",
       "</style>\n",
       "<table border=\"1\" class=\"dataframe\">\n",
       "  <thead>\n",
       "    <tr style=\"text-align: right;\">\n",
       "      <th></th>\n",
       "      <th>CUST_ID</th>\n",
       "      <th>BALANCE</th>\n",
       "      <th>BALANCE_FREQUENCY</th>\n",
       "      <th>PURCHASES</th>\n",
       "      <th>ONEOFF_PURCHASES</th>\n",
       "      <th>INSTALLMENTS_PURCHASES</th>\n",
       "      <th>CASH_ADVANCE</th>\n",
       "      <th>PURCHASES_FREQUENCY</th>\n",
       "      <th>ONEOFF_PURCHASES_FREQUENCY</th>\n",
       "      <th>PURCHASES_INSTALLMENTS_FREQUENCY</th>\n",
       "      <th>CASH_ADVANCE_FREQUENCY</th>\n",
       "      <th>CASH_ADVANCE_TRX</th>\n",
       "      <th>PURCHASES_TRX</th>\n",
       "      <th>CREDIT_LIMIT</th>\n",
       "      <th>PAYMENTS</th>\n",
       "      <th>MINIMUM_PAYMENTS</th>\n",
       "      <th>PRC_FULL_PAYMENT</th>\n",
       "      <th>TENURE</th>\n",
       "    </tr>\n",
       "  </thead>\n",
       "  <tbody>\n",
       "    <tr>\n",
       "      <th>0</th>\n",
       "      <td>C10001</td>\n",
       "      <td>40.900749</td>\n",
       "      <td>0.818182</td>\n",
       "      <td>95.4</td>\n",
       "      <td>0.0</td>\n",
       "      <td>95.4</td>\n",
       "      <td>0.000000</td>\n",
       "      <td>0.166667</td>\n",
       "      <td>0.0</td>\n",
       "      <td>0.083333</td>\n",
       "      <td>0.00</td>\n",
       "      <td>0</td>\n",
       "      <td>2</td>\n",
       "      <td>1000.0</td>\n",
       "      <td>201.802084</td>\n",
       "      <td>139.509787</td>\n",
       "      <td>0.000000</td>\n",
       "      <td>12</td>\n",
       "    </tr>\n",
       "    <tr>\n",
       "      <th>1</th>\n",
       "      <td>C10002</td>\n",
       "      <td>3202.467416</td>\n",
       "      <td>0.909091</td>\n",
       "      <td>0.0</td>\n",
       "      <td>0.0</td>\n",
       "      <td>0.0</td>\n",
       "      <td>6442.945483</td>\n",
       "      <td>0.000000</td>\n",
       "      <td>0.0</td>\n",
       "      <td>0.000000</td>\n",
       "      <td>0.25</td>\n",
       "      <td>4</td>\n",
       "      <td>0</td>\n",
       "      <td>7000.0</td>\n",
       "      <td>4103.032597</td>\n",
       "      <td>1072.340217</td>\n",
       "      <td>0.222222</td>\n",
       "      <td>12</td>\n",
       "    </tr>\n",
       "  </tbody>\n",
       "</table>\n",
       "</div>"
      ],
      "text/plain": [
       "  CUST_ID      BALANCE  BALANCE_FREQUENCY  PURCHASES  ONEOFF_PURCHASES  \\\n",
       "0  C10001    40.900749           0.818182       95.4               0.0   \n",
       "1  C10002  3202.467416           0.909091        0.0               0.0   \n",
       "\n",
       "   INSTALLMENTS_PURCHASES  CASH_ADVANCE  PURCHASES_FREQUENCY  \\\n",
       "0                    95.4      0.000000             0.166667   \n",
       "1                     0.0   6442.945483             0.000000   \n",
       "\n",
       "   ONEOFF_PURCHASES_FREQUENCY  PURCHASES_INSTALLMENTS_FREQUENCY  \\\n",
       "0                         0.0                          0.083333   \n",
       "1                         0.0                          0.000000   \n",
       "\n",
       "   CASH_ADVANCE_FREQUENCY  CASH_ADVANCE_TRX  PURCHASES_TRX  CREDIT_LIMIT  \\\n",
       "0                    0.00                 0              2        1000.0   \n",
       "1                    0.25                 4              0        7000.0   \n",
       "\n",
       "      PAYMENTS  MINIMUM_PAYMENTS  PRC_FULL_PAYMENT  TENURE  \n",
       "0   201.802084        139.509787          0.000000      12  \n",
       "1  4103.032597       1072.340217          0.222222      12  "
      ]
     },
     "execution_count": 58,
     "metadata": {},
     "output_type": "execute_result"
    }
   ],
   "source": [
    "data=pd.read_csv('CC_DATA.csv')\n",
    "data.head(2)"
   ]
  },
  {
   "cell_type": "code",
   "execution_count": 59,
   "metadata": {},
   "outputs": [],
   "source": [
    "data=data.set_index('CUST_ID')"
   ]
  },
  {
   "cell_type": "code",
   "execution_count": 60,
   "metadata": {},
   "outputs": [],
   "source": [
    "data=data.dropna()"
   ]
  },
  {
   "cell_type": "code",
   "execution_count": 61,
   "metadata": {},
   "outputs": [
    {
     "data": {
      "text/html": [
       "<div>\n",
       "<style scoped>\n",
       "    .dataframe tbody tr th:only-of-type {\n",
       "        vertical-align: middle;\n",
       "    }\n",
       "\n",
       "    .dataframe tbody tr th {\n",
       "        vertical-align: top;\n",
       "    }\n",
       "\n",
       "    .dataframe thead th {\n",
       "        text-align: right;\n",
       "    }\n",
       "</style>\n",
       "<table border=\"1\" class=\"dataframe\">\n",
       "  <thead>\n",
       "    <tr style=\"text-align: right;\">\n",
       "      <th></th>\n",
       "      <th>BALANCE</th>\n",
       "      <th>BALANCE_FREQUENCY</th>\n",
       "      <th>PURCHASES</th>\n",
       "      <th>ONEOFF_PURCHASES</th>\n",
       "      <th>INSTALLMENTS_PURCHASES</th>\n",
       "      <th>CASH_ADVANCE</th>\n",
       "      <th>PURCHASES_FREQUENCY</th>\n",
       "      <th>ONEOFF_PURCHASES_FREQUENCY</th>\n",
       "      <th>PURCHASES_INSTALLMENTS_FREQUENCY</th>\n",
       "      <th>CASH_ADVANCE_FREQUENCY</th>\n",
       "      <th>CASH_ADVANCE_TRX</th>\n",
       "      <th>PURCHASES_TRX</th>\n",
       "      <th>CREDIT_LIMIT</th>\n",
       "      <th>PAYMENTS</th>\n",
       "      <th>MINIMUM_PAYMENTS</th>\n",
       "      <th>PRC_FULL_PAYMENT</th>\n",
       "      <th>TENURE</th>\n",
       "    </tr>\n",
       "    <tr>\n",
       "      <th>CUST_ID</th>\n",
       "      <th></th>\n",
       "      <th></th>\n",
       "      <th></th>\n",
       "      <th></th>\n",
       "      <th></th>\n",
       "      <th></th>\n",
       "      <th></th>\n",
       "      <th></th>\n",
       "      <th></th>\n",
       "      <th></th>\n",
       "      <th></th>\n",
       "      <th></th>\n",
       "      <th></th>\n",
       "      <th></th>\n",
       "      <th></th>\n",
       "      <th></th>\n",
       "      <th></th>\n",
       "    </tr>\n",
       "  </thead>\n",
       "  <tbody>\n",
       "    <tr>\n",
       "      <th>C10001</th>\n",
       "      <td>-0.744625</td>\n",
       "      <td>-0.370047</td>\n",
       "      <td>-0.429184</td>\n",
       "      <td>-0.35916</td>\n",
       "      <td>-0.354826</td>\n",
       "      <td>-0.468655</td>\n",
       "      <td>-0.820769</td>\n",
       "      <td>-0.68628</td>\n",
       "      <td>-0.717179</td>\n",
       "      <td>-0.681953</td>\n",
       "      <td>-0.479437</td>\n",
       "      <td>-0.517623</td>\n",
       "      <td>-0.962575</td>\n",
       "      <td>-0.543942</td>\n",
       "      <td>-0.305508</td>\n",
       "      <td>-0.537727</td>\n",
       "      <td>0.355181</td>\n",
       "    </tr>\n",
       "    <tr>\n",
       "      <th>C10002</th>\n",
       "      <td>0.764152</td>\n",
       "      <td>0.067679</td>\n",
       "      <td>-0.473208</td>\n",
       "      <td>-0.35916</td>\n",
       "      <td>-0.458839</td>\n",
       "      <td>2.568556</td>\n",
       "      <td>-1.236139</td>\n",
       "      <td>-0.68628</td>\n",
       "      <td>-0.926522</td>\n",
       "      <td>0.557022</td>\n",
       "      <td>0.099258</td>\n",
       "      <td>-0.597054</td>\n",
       "      <td>0.677204</td>\n",
       "      <td>0.796852</td>\n",
       "      <td>0.087689</td>\n",
       "      <td>0.212380</td>\n",
       "      <td>0.355181</td>\n",
       "    </tr>\n",
       "  </tbody>\n",
       "</table>\n",
       "</div>"
      ],
      "text/plain": [
       "          BALANCE  BALANCE_FREQUENCY  PURCHASES  ONEOFF_PURCHASES  \\\n",
       "CUST_ID                                                             \n",
       "C10001  -0.744625          -0.370047  -0.429184          -0.35916   \n",
       "C10002   0.764152           0.067679  -0.473208          -0.35916   \n",
       "\n",
       "         INSTALLMENTS_PURCHASES  CASH_ADVANCE  PURCHASES_FREQUENCY  \\\n",
       "CUST_ID                                                              \n",
       "C10001                -0.354826     -0.468655            -0.820769   \n",
       "C10002                -0.458839      2.568556            -1.236139   \n",
       "\n",
       "         ONEOFF_PURCHASES_FREQUENCY  PURCHASES_INSTALLMENTS_FREQUENCY  \\\n",
       "CUST_ID                                                                 \n",
       "C10001                     -0.68628                         -0.717179   \n",
       "C10002                     -0.68628                         -0.926522   \n",
       "\n",
       "         CASH_ADVANCE_FREQUENCY  CASH_ADVANCE_TRX  PURCHASES_TRX  \\\n",
       "CUST_ID                                                            \n",
       "C10001                -0.681953         -0.479437      -0.517623   \n",
       "C10002                 0.557022          0.099258      -0.597054   \n",
       "\n",
       "         CREDIT_LIMIT  PAYMENTS  MINIMUM_PAYMENTS  PRC_FULL_PAYMENT    TENURE  \n",
       "CUST_ID                                                                        \n",
       "C10001      -0.962575 -0.543942         -0.305508         -0.537727  0.355181  \n",
       "C10002       0.677204  0.796852          0.087689          0.212380  0.355181  "
      ]
     },
     "execution_count": 61,
     "metadata": {},
     "output_type": "execute_result"
    }
   ],
   "source": [
    "from sklearn.preprocessing import StandardScaler\n",
    "sc=StandardScaler()\n",
    "data_sc=sc.fit_transform(data)\n",
    "data_sc=pd.DataFrame(data_sc)\n",
    "data_sc.columns=data.columns\n",
    "data_sc.index=data.index\n",
    "data_sc.head(2)"
   ]
  },
  {
   "cell_type": "code",
   "execution_count": 98,
   "metadata": {},
   "outputs": [],
   "source": [
    "from sklearn.cluster import KMeans\n",
    "clust_mod=KMeans(n_clusters=3)\n",
    "clust_mod.fit(data_sc)\n",
    "label=clust_mod.labels_\n"
   ]
  },
  {
   "cell_type": "code",
   "execution_count": 63,
   "metadata": {},
   "outputs": [],
   "source": [
    "data_sc['Label']=label\n",
    "data['Label']=label"
   ]
  },
  {
   "cell_type": "code",
   "execution_count": 64,
   "metadata": {},
   "outputs": [
    {
     "data": {
      "text/html": [
       "<div>\n",
       "<style scoped>\n",
       "    .dataframe tbody tr th:only-of-type {\n",
       "        vertical-align: middle;\n",
       "    }\n",
       "\n",
       "    .dataframe tbody tr th {\n",
       "        vertical-align: top;\n",
       "    }\n",
       "\n",
       "    .dataframe thead th {\n",
       "        text-align: right;\n",
       "    }\n",
       "</style>\n",
       "<table border=\"1\" class=\"dataframe\">\n",
       "  <thead>\n",
       "    <tr style=\"text-align: right;\">\n",
       "      <th></th>\n",
       "      <th>0</th>\n",
       "      <th>1</th>\n",
       "      <th>2</th>\n",
       "      <th>3</th>\n",
       "      <th>4</th>\n",
       "      <th>5</th>\n",
       "      <th>6</th>\n",
       "      <th>7</th>\n",
       "      <th>8</th>\n",
       "      <th>9</th>\n",
       "      <th>10</th>\n",
       "      <th>11</th>\n",
       "      <th>12</th>\n",
       "      <th>13</th>\n",
       "      <th>14</th>\n",
       "      <th>15</th>\n",
       "      <th>16</th>\n",
       "    </tr>\n",
       "  </thead>\n",
       "  <tbody>\n",
       "    <tr>\n",
       "      <th>0</th>\n",
       "      <td>-0.369858</td>\n",
       "      <td>-0.170559</td>\n",
       "      <td>-0.233503</td>\n",
       "      <td>-0.204575</td>\n",
       "      <td>-0.176000</td>\n",
       "      <td>-0.312195</td>\n",
       "      <td>-0.059455</td>\n",
       "      <td>-0.233650</td>\n",
       "      <td>-0.047989</td>\n",
       "      <td>-0.336143</td>\n",
       "      <td>-0.301217</td>\n",
       "      <td>-0.245062</td>\n",
       "      <td>-0.343113</td>\n",
       "      <td>-0.287737</td>\n",
       "      <td>-0.139644</td>\n",
       "      <td>0.015706</td>\n",
       "      <td>-0.025258</td>\n",
       "    </tr>\n",
       "    <tr>\n",
       "      <th>1</th>\n",
       "      <td>0.303323</td>\n",
       "      <td>0.419872</td>\n",
       "      <td>1.511683</td>\n",
       "      <td>1.263717</td>\n",
       "      <td>1.251221</td>\n",
       "      <td>-0.249094</td>\n",
       "      <td>1.133379</td>\n",
       "      <td>1.539164</td>\n",
       "      <td>0.957351</td>\n",
       "      <td>-0.364497</td>\n",
       "      <td>-0.254601</td>\n",
       "      <td>1.667687</td>\n",
       "      <td>0.888947</td>\n",
       "      <td>0.824408</td>\n",
       "      <td>0.157942</td>\n",
       "      <td>0.472298</td>\n",
       "      <td>0.295338</td>\n",
       "    </tr>\n",
       "    <tr>\n",
       "      <th>2</th>\n",
       "      <td>1.151158</td>\n",
       "      <td>0.314053</td>\n",
       "      <td>-0.295451</td>\n",
       "      <td>-0.211857</td>\n",
       "      <td>-0.309266</td>\n",
       "      <td>1.362807</td>\n",
       "      <td>-0.654767</td>\n",
       "      <td>-0.316181</td>\n",
       "      <td>-0.561438</td>\n",
       "      <td>1.541906</td>\n",
       "      <td>1.325932</td>\n",
       "      <td>-0.372930</td>\n",
       "      <td>0.597488</td>\n",
       "      <td>0.439942</td>\n",
       "      <td>0.401013</td>\n",
       "      <td>-0.424555</td>\n",
       "      <td>-0.134026</td>\n",
       "    </tr>\n",
       "  </tbody>\n",
       "</table>\n",
       "</div>"
      ],
      "text/plain": [
       "          0         1         2         3         4         5         6  \\\n",
       "0 -0.369858 -0.170559 -0.233503 -0.204575 -0.176000 -0.312195 -0.059455   \n",
       "1  0.303323  0.419872  1.511683  1.263717  1.251221 -0.249094  1.133379   \n",
       "2  1.151158  0.314053 -0.295451 -0.211857 -0.309266  1.362807 -0.654767   \n",
       "\n",
       "          7         8         9        10        11        12        13  \\\n",
       "0 -0.233650 -0.047989 -0.336143 -0.301217 -0.245062 -0.343113 -0.287737   \n",
       "1  1.539164  0.957351 -0.364497 -0.254601  1.667687  0.888947  0.824408   \n",
       "2 -0.316181 -0.561438  1.541906  1.325932 -0.372930  0.597488  0.439942   \n",
       "\n",
       "         14        15        16  \n",
       "0 -0.139644  0.015706 -0.025258  \n",
       "1  0.157942  0.472298  0.295338  \n",
       "2  0.401013 -0.424555 -0.134026  "
      ]
     },
     "execution_count": 64,
     "metadata": {},
     "output_type": "execute_result"
    }
   ],
   "source": [
    "pd.DataFrame(clust_mod.cluster_centers_)"
   ]
  },
  {
   "cell_type": "code",
   "execution_count": 65,
   "metadata": {},
   "outputs": [
    {
     "data": {
      "text/html": [
       "<div>\n",
       "<style scoped>\n",
       "    .dataframe tbody tr th:only-of-type {\n",
       "        vertical-align: middle;\n",
       "    }\n",
       "\n",
       "    .dataframe tbody tr th {\n",
       "        vertical-align: top;\n",
       "    }\n",
       "\n",
       "    .dataframe thead th {\n",
       "        text-align: right;\n",
       "    }\n",
       "</style>\n",
       "<table border=\"1\" class=\"dataframe\">\n",
       "  <thead>\n",
       "    <tr style=\"text-align: right;\">\n",
       "      <th></th>\n",
       "      <th>BALANCE</th>\n",
       "      <th>BALANCE_FREQUENCY</th>\n",
       "      <th>PURCHASES</th>\n",
       "      <th>ONEOFF_PURCHASES</th>\n",
       "      <th>INSTALLMENTS_PURCHASES</th>\n",
       "      <th>CASH_ADVANCE</th>\n",
       "      <th>PURCHASES_FREQUENCY</th>\n",
       "      <th>ONEOFF_PURCHASES_FREQUENCY</th>\n",
       "      <th>PURCHASES_INSTALLMENTS_FREQUENCY</th>\n",
       "      <th>CASH_ADVANCE_FREQUENCY</th>\n",
       "      <th>CASH_ADVANCE_TRX</th>\n",
       "      <th>PURCHASES_TRX</th>\n",
       "      <th>CREDIT_LIMIT</th>\n",
       "      <th>PAYMENTS</th>\n",
       "      <th>MINIMUM_PAYMENTS</th>\n",
       "      <th>PRC_FULL_PAYMENT</th>\n",
       "      <th>TENURE</th>\n",
       "    </tr>\n",
       "    <tr>\n",
       "      <th>Label</th>\n",
       "      <th></th>\n",
       "      <th></th>\n",
       "      <th></th>\n",
       "      <th></th>\n",
       "      <th></th>\n",
       "      <th></th>\n",
       "      <th></th>\n",
       "      <th></th>\n",
       "      <th></th>\n",
       "      <th></th>\n",
       "      <th></th>\n",
       "      <th></th>\n",
       "      <th></th>\n",
       "      <th></th>\n",
       "      <th></th>\n",
       "      <th></th>\n",
       "      <th></th>\n",
       "    </tr>\n",
       "  </thead>\n",
       "  <tbody>\n",
       "    <tr>\n",
       "      <th>0</th>\n",
       "      <td>-0.369801</td>\n",
       "      <td>-0.170443</td>\n",
       "      <td>-0.233525</td>\n",
       "      <td>-0.204577</td>\n",
       "      <td>-0.176048</td>\n",
       "      <td>-0.311998</td>\n",
       "      <td>-0.059585</td>\n",
       "      <td>-0.233632</td>\n",
       "      <td>-0.048139</td>\n",
       "      <td>-0.335991</td>\n",
       "      <td>-0.301174</td>\n",
       "      <td>-0.245108</td>\n",
       "      <td>-0.342986</td>\n",
       "      <td>-0.287660</td>\n",
       "      <td>-0.139654</td>\n",
       "      <td>0.015611</td>\n",
       "      <td>-0.025193</td>\n",
       "    </tr>\n",
       "    <tr>\n",
       "      <th>1</th>\n",
       "      <td>0.303323</td>\n",
       "      <td>0.419872</td>\n",
       "      <td>1.511683</td>\n",
       "      <td>1.263717</td>\n",
       "      <td>1.251221</td>\n",
       "      <td>-0.249094</td>\n",
       "      <td>1.133379</td>\n",
       "      <td>1.539164</td>\n",
       "      <td>0.957351</td>\n",
       "      <td>-0.364497</td>\n",
       "      <td>-0.254601</td>\n",
       "      <td>1.667687</td>\n",
       "      <td>0.888947</td>\n",
       "      <td>0.824408</td>\n",
       "      <td>0.157942</td>\n",
       "      <td>0.472298</td>\n",
       "      <td>0.295338</td>\n",
       "    </tr>\n",
       "    <tr>\n",
       "      <th>2</th>\n",
       "      <td>1.151919</td>\n",
       "      <td>0.313931</td>\n",
       "      <td>-0.295410</td>\n",
       "      <td>-0.211857</td>\n",
       "      <td>-0.309170</td>\n",
       "      <td>1.363137</td>\n",
       "      <td>-0.654661</td>\n",
       "      <td>-0.316299</td>\n",
       "      <td>-0.561205</td>\n",
       "      <td>1.542536</td>\n",
       "      <td>1.326809</td>\n",
       "      <td>-0.372838</td>\n",
       "      <td>0.597611</td>\n",
       "      <td>0.440118</td>\n",
       "      <td>0.401398</td>\n",
       "      <td>-0.424482</td>\n",
       "      <td>-0.134339</td>\n",
       "    </tr>\n",
       "  </tbody>\n",
       "</table>\n",
       "</div>"
      ],
      "text/plain": [
       "        BALANCE  BALANCE_FREQUENCY  PURCHASES  ONEOFF_PURCHASES  \\\n",
       "Label                                                             \n",
       "0     -0.369801          -0.170443  -0.233525         -0.204577   \n",
       "1      0.303323           0.419872   1.511683          1.263717   \n",
       "2      1.151919           0.313931  -0.295410         -0.211857   \n",
       "\n",
       "       INSTALLMENTS_PURCHASES  CASH_ADVANCE  PURCHASES_FREQUENCY  \\\n",
       "Label                                                              \n",
       "0                   -0.176048     -0.311998            -0.059585   \n",
       "1                    1.251221     -0.249094             1.133379   \n",
       "2                   -0.309170      1.363137            -0.654661   \n",
       "\n",
       "       ONEOFF_PURCHASES_FREQUENCY  PURCHASES_INSTALLMENTS_FREQUENCY  \\\n",
       "Label                                                                 \n",
       "0                       -0.233632                         -0.048139   \n",
       "1                        1.539164                          0.957351   \n",
       "2                       -0.316299                         -0.561205   \n",
       "\n",
       "       CASH_ADVANCE_FREQUENCY  CASH_ADVANCE_TRX  PURCHASES_TRX  CREDIT_LIMIT  \\\n",
       "Label                                                                          \n",
       "0                   -0.335991         -0.301174      -0.245108     -0.342986   \n",
       "1                   -0.364497         -0.254601       1.667687      0.888947   \n",
       "2                    1.542536          1.326809      -0.372838      0.597611   \n",
       "\n",
       "       PAYMENTS  MINIMUM_PAYMENTS  PRC_FULL_PAYMENT    TENURE  \n",
       "Label                                                          \n",
       "0     -0.287660         -0.139654          0.015611 -0.025193  \n",
       "1      0.824408          0.157942          0.472298  0.295338  \n",
       "2      0.440118          0.401398         -0.424482 -0.134339  "
      ]
     },
     "execution_count": 65,
     "metadata": {},
     "output_type": "execute_result"
    }
   ],
   "source": [
    "data_sc.groupby('Label').mean()"
   ]
  },
  {
   "cell_type": "code",
   "execution_count": 66,
   "metadata": {},
   "outputs": [
    {
     "data": {
      "text/html": [
       "<div>\n",
       "<style scoped>\n",
       "    .dataframe tbody tr th:only-of-type {\n",
       "        vertical-align: middle;\n",
       "    }\n",
       "\n",
       "    .dataframe tbody tr th {\n",
       "        vertical-align: top;\n",
       "    }\n",
       "\n",
       "    .dataframe thead th {\n",
       "        text-align: right;\n",
       "    }\n",
       "</style>\n",
       "<table border=\"1\" class=\"dataframe\">\n",
       "  <thead>\n",
       "    <tr style=\"text-align: right;\">\n",
       "      <th></th>\n",
       "      <th>BALANCE</th>\n",
       "      <th>BALANCE_FREQUENCY</th>\n",
       "      <th>PURCHASES</th>\n",
       "      <th>ONEOFF_PURCHASES</th>\n",
       "      <th>INSTALLMENTS_PURCHASES</th>\n",
       "      <th>CASH_ADVANCE</th>\n",
       "      <th>PURCHASES_FREQUENCY</th>\n",
       "      <th>ONEOFF_PURCHASES_FREQUENCY</th>\n",
       "      <th>PURCHASES_INSTALLMENTS_FREQUENCY</th>\n",
       "      <th>CASH_ADVANCE_FREQUENCY</th>\n",
       "      <th>CASH_ADVANCE_TRX</th>\n",
       "      <th>PURCHASES_TRX</th>\n",
       "      <th>CREDIT_LIMIT</th>\n",
       "      <th>PAYMENTS</th>\n",
       "      <th>MINIMUM_PAYMENTS</th>\n",
       "      <th>PRC_FULL_PAYMENT</th>\n",
       "      <th>TENURE</th>\n",
       "    </tr>\n",
       "    <tr>\n",
       "      <th>Label</th>\n",
       "      <th></th>\n",
       "      <th></th>\n",
       "      <th></th>\n",
       "      <th></th>\n",
       "      <th></th>\n",
       "      <th></th>\n",
       "      <th></th>\n",
       "      <th></th>\n",
       "      <th></th>\n",
       "      <th></th>\n",
       "      <th></th>\n",
       "      <th></th>\n",
       "      <th></th>\n",
       "      <th></th>\n",
       "      <th></th>\n",
       "      <th></th>\n",
       "      <th></th>\n",
       "    </tr>\n",
       "  </thead>\n",
       "  <tbody>\n",
       "    <tr>\n",
       "      <th>0</th>\n",
       "      <td>826.325433</td>\n",
       "      <td>0.859637</td>\n",
       "      <td>519.389534</td>\n",
       "      <td>260.351022</td>\n",
       "      <td>259.373374</td>\n",
       "      <td>332.323988</td>\n",
       "      <td>0.472092</td>\n",
       "      <td>0.135811</td>\n",
       "      <td>0.349658</td>\n",
       "      <td>0.069808</td>\n",
       "      <td>1.232173</td>\n",
       "      <td>8.861651</td>\n",
       "      <td>3267.097166</td>\n",
       "      <td>947.490615</td>\n",
       "      <td>532.985290</td>\n",
       "      <td>0.163929</td>\n",
       "      <td>11.501365</td>\n",
       "    </tr>\n",
       "    <tr>\n",
       "      <th>1</th>\n",
       "      <td>2236.823143</td>\n",
       "      <td>0.982236</td>\n",
       "      <td>4301.224269</td>\n",
       "      <td>2733.266623</td>\n",
       "      <td>1568.453105</td>\n",
       "      <td>465.763191</td>\n",
       "      <td>0.950768</td>\n",
       "      <td>0.667714</td>\n",
       "      <td>0.749913</td>\n",
       "      <td>0.064056</td>\n",
       "      <td>1.554088</td>\n",
       "      <td>57.023947</td>\n",
       "      <td>7774.772915</td>\n",
       "      <td>4183.209240</td>\n",
       "      <td>1239.012170</td>\n",
       "      <td>0.299224</td>\n",
       "      <td>11.921552</td>\n",
       "    </tr>\n",
       "    <tr>\n",
       "      <th>2</th>\n",
       "      <td>4015.013217</td>\n",
       "      <td>0.960234</td>\n",
       "      <td>385.286564</td>\n",
       "      <td>248.090371</td>\n",
       "      <td>137.275317</td>\n",
       "      <td>3885.846048</td>\n",
       "      <td>0.233318</td>\n",
       "      <td>0.111007</td>\n",
       "      <td>0.145422</td>\n",
       "      <td>0.448857</td>\n",
       "      <td>12.484965</td>\n",
       "      <td>5.645553</td>\n",
       "      <td>6708.768103</td>\n",
       "      <td>3065.064934</td>\n",
       "      <td>1816.592437</td>\n",
       "      <td>0.033549</td>\n",
       "      <td>11.358285</td>\n",
       "    </tr>\n",
       "  </tbody>\n",
       "</table>\n",
       "</div>"
      ],
      "text/plain": [
       "           BALANCE  BALANCE_FREQUENCY    PURCHASES  ONEOFF_PURCHASES  \\\n",
       "Label                                                                  \n",
       "0       826.325433           0.859637   519.389534        260.351022   \n",
       "1      2236.823143           0.982236  4301.224269       2733.266623   \n",
       "2      4015.013217           0.960234   385.286564        248.090371   \n",
       "\n",
       "       INSTALLMENTS_PURCHASES  CASH_ADVANCE  PURCHASES_FREQUENCY  \\\n",
       "Label                                                              \n",
       "0                  259.373374    332.323988             0.472092   \n",
       "1                 1568.453105    465.763191             0.950768   \n",
       "2                  137.275317   3885.846048             0.233318   \n",
       "\n",
       "       ONEOFF_PURCHASES_FREQUENCY  PURCHASES_INSTALLMENTS_FREQUENCY  \\\n",
       "Label                                                                 \n",
       "0                        0.135811                          0.349658   \n",
       "1                        0.667714                          0.749913   \n",
       "2                        0.111007                          0.145422   \n",
       "\n",
       "       CASH_ADVANCE_FREQUENCY  CASH_ADVANCE_TRX  PURCHASES_TRX  CREDIT_LIMIT  \\\n",
       "Label                                                                          \n",
       "0                    0.069808          1.232173       8.861651   3267.097166   \n",
       "1                    0.064056          1.554088      57.023947   7774.772915   \n",
       "2                    0.448857         12.484965       5.645553   6708.768103   \n",
       "\n",
       "          PAYMENTS  MINIMUM_PAYMENTS  PRC_FULL_PAYMENT     TENURE  \n",
       "Label                                                              \n",
       "0       947.490615        532.985290          0.163929  11.501365  \n",
       "1      4183.209240       1239.012170          0.299224  11.921552  \n",
       "2      3065.064934       1816.592437          0.033549  11.358285  "
      ]
     },
     "execution_count": 66,
     "metadata": {},
     "output_type": "execute_result"
    }
   ],
   "source": [
    "data.groupby('Label').mean()"
   ]
  },
  {
   "cell_type": "code",
   "execution_count": 67,
   "metadata": {},
   "outputs": [],
   "source": [
    "# Quality of cluster group"
   ]
  },
  {
   "cell_type": "code",
   "execution_count": 68,
   "metadata": {},
   "outputs": [],
   "source": [
    "from matplotlib import pyplot as plt"
   ]
  },
  {
   "cell_type": "code",
   "execution_count": 22,
   "metadata": {},
   "outputs": [
    {
     "name": "stdout",
     "output_type": "stream",
     "text": [
      "152060.9943260769\n",
      "128477.59039113406\n",
      "108086.65944658103\n",
      "96735.64232061614\n",
      "89332.81149860713\n",
      "83084.51165403877\n",
      "78289.56376951543\n",
      "73482.34583723193\n"
     ]
    },
    {
     "data": {
      "text/plain": [
       "[<matplotlib.lines.Line2D at 0x287d3c2df88>]"
      ]
     },
     "execution_count": 22,
     "metadata": {},
     "output_type": "execute_result"
    },
    {
     "data": {
      "image/png": "[encoded data removed]",
      "text/plain": [
       "<Figure size 432x288 with 1 Axes>"
      ]
     },
     "metadata": {
      "needs_background": "light"
     },
     "output_type": "display_data"
    }
   ],
   "source": [
    "wcss=[]\n",
    "cl=[1,2,3,4,5,6,7,8]\n",
    "for k in cl:\n",
    "    mod=KMeans(k)\n",
    "    mod.fit(data_sc)\n",
    "    print(mod.inertia_)\n",
    "    wcss.append(mod.inertia_)\n",
    "plt.plot(cl,wcss)"
   ]
  },
  {
   "cell_type": "code",
   "execution_count": 23,
   "metadata": {},
   "outputs": [
    {
     "name": "stdout",
     "output_type": "stream",
     "text": [
      "0.19823332157819581\n",
      "0.28638482608230215\n",
      "0.19768534873495078\n",
      "0.19474933396903993\n",
      "0.19898890027034125\n",
      "0.2020740089151399\n",
      "0.21663183686123597\n"
     ]
    }
   ],
   "source": [
    "from sklearn.metrics import silhouette_score\n",
    "sil=[]\n",
    "cl=[2,3,4,5,6,7,8]\n",
    "for k in cl:\n",
    "    mod=KMeans(k)\n",
    "    mod.fit(data_sc)\n",
    "    score=silhouette_score(data_sc,mod.labels_)\n",
    "    print(score)\n",
    "    sil.append(score)"
   ]
  },
  {
   "cell_type": "code",
   "execution_count": 24,
   "metadata": {},
   "outputs": [],
   "source": [
    "#use PCA for cluster visual\n",
    "from sklearn.decomposition import PCA\n",
    "pca=PCA(2)\n",
    "pcadata=pca.fit_transform(data_sc)"
   ]
  },
  {
   "cell_type": "code",
   "execution_count": 25,
   "metadata": {},
   "outputs": [
    {
     "data": {
      "text/plain": [
       "<matplotlib.collections.PathCollection at 0x287d3703588>"
      ]
     },
     "execution_count": 25,
     "metadata": {},
     "output_type": "execute_result"
    },
    {
     "data": {
      "image/png": "[encoded data removed]",
      "text/plain": [
       "<Figure size 432x288 with 1 Axes>"
      ]
     },
     "metadata": {
      "needs_background": "light"
     },
     "output_type": "display_data"
    }
   ],
   "source": [
    "plt.scatter(pcadata[:,0],pcadata[:,1],c=label)"
   ]
  },
  {
   "cell_type": "code",
   "execution_count": 26,
   "metadata": {},
   "outputs": [],
   "source": [
    "pcadata1=pd.DataFrame(pcadata)\n",
    "pcadata1['label']=label"
   ]
  },
  {
   "cell_type": "code",
   "execution_count": 27,
   "metadata": {},
   "outputs": [
    {
     "data": {
      "text/html": [
       "<div>\n",
       "<style scoped>\n",
       "    .dataframe tbody tr th:only-of-type {\n",
       "        vertical-align: middle;\n",
       "    }\n",
       "\n",
       "    .dataframe tbody tr th {\n",
       "        vertical-align: top;\n",
       "    }\n",
       "\n",
       "    .dataframe thead th {\n",
       "        text-align: right;\n",
       "    }\n",
       "</style>\n",
       "<table border=\"1\" class=\"dataframe\">\n",
       "  <thead>\n",
       "    <tr style=\"text-align: right;\">\n",
       "      <th></th>\n",
       "      <th>0</th>\n",
       "      <th>1</th>\n",
       "    </tr>\n",
       "    <tr>\n",
       "      <th>label</th>\n",
       "      <th></th>\n",
       "      <th></th>\n",
       "    </tr>\n",
       "  </thead>\n",
       "  <tbody>\n",
       "    <tr>\n",
       "      <th>0</th>\n",
       "      <td>-0.664478</td>\n",
       "      <td>-0.821137</td>\n",
       "    </tr>\n",
       "    <tr>\n",
       "      <th>1</th>\n",
       "      <td>3.845712</td>\n",
       "      <td>-0.282577</td>\n",
       "    </tr>\n",
       "    <tr>\n",
       "      <th>2</th>\n",
       "      <td>-0.514645</td>\n",
       "      <td>3.343107</td>\n",
       "    </tr>\n",
       "  </tbody>\n",
       "</table>\n",
       "</div>"
      ],
      "text/plain": [
       "              0         1\n",
       "label                    \n",
       "0     -0.664478 -0.821137\n",
       "1      3.845712 -0.282577\n",
       "2     -0.514645  3.343107"
      ]
     },
     "execution_count": 27,
     "metadata": {},
     "output_type": "execute_result"
    }
   ],
   "source": [
    "cent=pcadata1.groupby('label').mean()\n",
    "cent"
   ]
  },
  {
   "cell_type": "code",
   "execution_count": 28,
   "metadata": {},
   "outputs": [
    {
     "data": {
      "text/plain": [
       "<matplotlib.collections.PathCollection at 0x28780082a88>"
      ]
     },
     "execution_count": 28,
     "metadata": {},
     "output_type": "execute_result"
    },
    {
     "data": {
      "image/png": "[encoded data removed]",
      "text/plain": [
       "<Figure size 432x288 with 1 Axes>"
      ]
     },
     "metadata": {
      "needs_background": "light"
     },
     "output_type": "display_data"
    }
   ],
   "source": [
    "plt.scatter(pcadata1[0],pcadata1[1],c=label)\n",
    "plt.scatter(cent.iloc[0,0],cent.iloc[0,1],color='red')\n",
    "plt.scatter(cent.iloc[1,0],cent.iloc[1,1],color='red')\n",
    "plt.scatter(cent.iloc[2,0],cent.iloc[2,1],color='red')"
   ]
  },
  {
   "cell_type": "code",
   "execution_count": 69,
   "metadata": {},
   "outputs": [],
   "source": [
    "out=data['Label']\n",
    "inp=data.drop('Label',1)"
   ]
  },
  {
   "cell_type": "code",
   "execution_count": 70,
   "metadata": {},
   "outputs": [],
   "source": [
    "from sklearn.model_selection import train_test_split\n",
    "xtrain,xtest,ytrain,ytest=train_test_split(inp,out,test_size=0.3,random_state=48,stratify=out)"
   ]
  },
  {
   "cell_type": "code",
   "execution_count": 71,
   "metadata": {},
   "outputs": [],
   "source": [
    "\n",
    "from sklearn.ensemble import RandomForestClassifier\n",
    "rf_mod=RandomForestClassifier()\n",
    "rf_mod.fit(xtrain,ytrain)\n",
    "ypred=rf_mod.predict(xtest)"
   ]
  },
  {
   "cell_type": "code",
   "execution_count": 73,
   "metadata": {},
   "outputs": [
    {
     "name": "stdout",
     "output_type": "stream",
     "text": [
      "              precision    recall  f1-score   support\n",
      "\n",
      "           0       0.97      0.98      0.98      1759\n",
      "           1       0.95      0.93      0.94       363\n",
      "           2       0.96      0.94      0.95       469\n",
      "\n",
      "    accuracy                           0.97      2591\n",
      "   macro avg       0.96      0.95      0.96      2591\n",
      "weighted avg       0.97      0.97      0.97      2591\n",
      "\n"
     ]
    }
   ],
   "source": [
    "from sklearn.metrics import classification_report,cohen_kappa_score\n",
    "print(classification_report(ytest,ypred))"
   ]
  },
  {
   "cell_type": "code",
   "execution_count": 74,
   "metadata": {},
   "outputs": [
    {
     "data": {
      "text/plain": [
       "0.9361172031120365"
      ]
     },
     "execution_count": 74,
     "metadata": {},
     "output_type": "execute_result"
    }
   ],
   "source": [
    "cohen_kappa_score(ytest,ypred)"
   ]
  },
  {
   "cell_type": "code",
   "execution_count": 33,
   "metadata": {},
   "outputs": [],
   "source": [
    "from sklearn.datasets import make_moons\n",
    "moons, moon_labels = make_moons(n_samples=500, noise=.05)"
   ]
  },
  {
   "cell_type": "code",
   "execution_count": 34,
   "metadata": {},
   "outputs": [],
   "source": [
    "db_data=pd.DataFrame()\n",
    "db_data['F1']=moons[:,0]\n",
    "db_data['F2']=moons[:,1]\n",
    "db_data['out']=moon_labels"
   ]
  },
  {
   "cell_type": "code",
   "execution_count": 35,
   "metadata": {},
   "outputs": [],
   "source": [
    "db_data.to_csv('db_data.csv')"
   ]
  },
  {
   "cell_type": "code",
   "execution_count": 36,
   "metadata": {},
   "outputs": [
    {
     "data": {
      "text/plain": [
       "<matplotlib.collections.PathCollection at 0x287812d0c08>"
      ]
     },
     "execution_count": 36,
     "metadata": {},
     "output_type": "execute_result"
    },
    {
     "data": {
      "image/png": "[encoded data removed]",
      "text/plain": [
       "<Figure size 432x288 with 1 Axes>"
      ]
     },
     "metadata": {
      "needs_background": "light"
     },
     "output_type": "display_data"
    }
   ],
   "source": [
    "plt.scatter(moons[:,0],moons[:,1],c=moon_labels)"
   ]
  },
  {
   "cell_type": "code",
   "execution_count": 48,
   "metadata": {},
   "outputs": [],
   "source": [
    "db_data=pd.read_csv('db_data.csv')\n",
    "lab=db_data['out']"
   ]
  },
  {
   "cell_type": "code",
   "execution_count": 49,
   "metadata": {},
   "outputs": [
    {
     "data": {
      "text/html": [
       "<div>\n",
       "<style scoped>\n",
       "    .dataframe tbody tr th:only-of-type {\n",
       "        vertical-align: middle;\n",
       "    }\n",
       "\n",
       "    .dataframe tbody tr th {\n",
       "        vertical-align: top;\n",
       "    }\n",
       "\n",
       "    .dataframe thead th {\n",
       "        text-align: right;\n",
       "    }\n",
       "</style>\n",
       "<table border=\"1\" class=\"dataframe\">\n",
       "  <thead>\n",
       "    <tr style=\"text-align: right;\">\n",
       "      <th></th>\n",
       "      <th>F1</th>\n",
       "      <th>F2</th>\n",
       "      <th>out</th>\n",
       "    </tr>\n",
       "  </thead>\n",
       "  <tbody>\n",
       "    <tr>\n",
       "      <th>0</th>\n",
       "      <td>-0.914217</td>\n",
       "      <td>0.206889</td>\n",
       "      <td>0</td>\n",
       "    </tr>\n",
       "    <tr>\n",
       "      <th>1</th>\n",
       "      <td>0.933988</td>\n",
       "      <td>0.018113</td>\n",
       "      <td>0</td>\n",
       "    </tr>\n",
       "  </tbody>\n",
       "</table>\n",
       "</div>"
      ],
      "text/plain": [
       "         F1        F2  out\n",
       "0 -0.914217  0.206889    0\n",
       "1  0.933988  0.018113    0"
      ]
     },
     "execution_count": 49,
     "metadata": {},
     "output_type": "execute_result"
    }
   ],
   "source": [
    "db_data.head(2)"
   ]
  },
  {
   "cell_type": "code",
   "execution_count": 50,
   "metadata": {},
   "outputs": [],
   "source": [
    "db_data=db_data.drop('out',axis=1)"
   ]
  },
  {
   "cell_type": "code",
   "execution_count": 51,
   "metadata": {},
   "outputs": [],
   "source": [
    "from sklearn.cluster import KMeans\n",
    "mod2=KMeans(n_clusters=2)\n",
    "mod2.fit(db_data)\n",
    "labels=mod2.labels_\n",
    "cent=mod2.cluster_centers_"
   ]
  },
  {
   "cell_type": "code",
   "execution_count": 52,
   "metadata": {},
   "outputs": [
    {
     "data": {
      "text/plain": [
       "<matplotlib.collections.PathCollection at 0x2878148cec8>"
      ]
     },
     "execution_count": 52,
     "metadata": {},
     "output_type": "execute_result"
    },
    {
     "data": {
      "image/png": "[encoded data removed]",
      "text/plain": [
       "<Figure size 432x288 with 1 Axes>"
      ]
     },
     "metadata": {
      "needs_background": "light"
     },
     "output_type": "display_data"
    }
   ],
   "source": [
    "from matplotlib import pyplot as plt\n",
    "plt.scatter(db_data.iloc[:,0],db_data.iloc[:,1],c=labels)\n",
    "plt.scatter(cent[0,0],cent[0,1],s=100)\n",
    "plt.scatter(cent[1,0],cent[1,1],s=100)\n"
   ]
  },
  {
   "cell_type": "code",
   "execution_count": 53,
   "metadata": {},
   "outputs": [
    {
     "data": {
      "text/plain": [
       "<matplotlib.collections.PathCollection at 0x287814f9688>"
      ]
     },
     "execution_count": 53,
     "metadata": {},
     "output_type": "execute_result"
    },
    {
     "data": {
      "image/png": "[encoded data removed]",
      "text/plain": [
       "<Figure size 432x288 with 1 Axes>"
      ]
     },
     "metadata": {
      "needs_background": "light"
     },
     "output_type": "display_data"
    }
   ],
   "source": [
    "from sklearn.cluster import DBSCAN\n",
    "db_mod = DBSCAN(eps=0.3)\n",
    "db_mod.fit(db_data)\n",
    "lab_db=db_mod.labels_\n",
    "plt.scatter(db_data.iloc[:,0],db_data.iloc[:,1],c=lab_db)"
   ]
  },
  {
   "cell_type": "code",
   "execution_count": 87,
   "metadata": {},
   "outputs": [],
   "source": [
    "from sklearn.cluster import AgglomerativeClustering\n",
    "from scipy.cluster.hierarchy import dendrogram, linkage, cophenet, fcluster"
   ]
  },
  {
   "cell_type": "code",
   "execution_count": 77,
   "metadata": {},
   "outputs": [
    {
     "data": {
      "text/plain": [
       "array([[0.4 , 0.53],\n",
       "       [0.22, 0.38],\n",
       "       [0.35, 0.32],\n",
       "       [0.26, 0.19],\n",
       "       [0.08, 0.41],\n",
       "       [0.45, 0.3 ]])"
      ]
     },
     "execution_count": 77,
     "metadata": {},
     "output_type": "execute_result"
    }
   ],
   "source": [
    "samp=np.array([[0.40,0.53],[0.22,0.38],[0.35,0.32],[0.26,0.19],[0.08,0.41],[0.45,0.3]])\n",
    "samp"
   ]
  },
  {
   "cell_type": "code",
   "execution_count": 78,
   "metadata": {},
   "outputs": [
    {
     "data": {
      "text/plain": [
       "array([0.23430749, 0.21587033, 0.36769553, 0.34176015, 0.23537205,\n",
       "       0.14317821, 0.19416488, 0.14317821, 0.24351591, 0.15811388,\n",
       "       0.28460499, 0.10198039, 0.28425341, 0.21954498, 0.38600518])"
      ]
     },
     "execution_count": 78,
     "metadata": {},
     "output_type": "execute_result"
    }
   ],
   "source": [
    "from scipy.spatial.distance import pdist\n",
    "pdist(samp)"
   ]
  },
  {
   "cell_type": "code",
   "execution_count": 79,
   "metadata": {},
   "outputs": [
    {
     "data": {
      "text/plain": [
       "array([[2.        , 5.        , 0.10198039, 2.        ],\n",
       "       [1.        , 6.        , 0.14317821, 3.        ],\n",
       "       [4.        , 7.        , 0.14317821, 4.        ],\n",
       "       [3.        , 8.        , 0.15811388, 5.        ],\n",
       "       [0.        , 9.        , 0.21587033, 6.        ]])"
      ]
     },
     "execution_count": 79,
     "metadata": {},
     "output_type": "execute_result"
    }
   ],
   "source": [
    "link_matrix = linkage(samp, 'single')\n",
    "link_matrix"
   ]
  },
  {
   "cell_type": "code",
   "execution_count": 80,
   "metadata": {},
   "outputs": [
    {
     "data": {
      "text/plain": [
       "{'icoord': [[45.0, 45.0, 55.0, 55.0],\n",
       "  [35.0, 35.0, 50.0, 50.0],\n",
       "  [25.0, 25.0, 42.5, 42.5],\n",
       "  [15.0, 15.0, 33.75, 33.75],\n",
       "  [5.0, 5.0, 24.375, 24.375]],\n",
       " 'dcoord': [[0.0, 0.10198039027185574, 0.10198039027185574, 0.0],\n",
       "  [0.0, 0.1431782106327635, 0.1431782106327635, 0.10198039027185574],\n",
       "  [0.0, 0.14317821063276354, 0.14317821063276354, 0.1431782106327635],\n",
       "  [0.0, 0.15811388300841894, 0.15811388300841894, 0.14317821063276354],\n",
       "  [0.0, 0.21587033144922904, 0.21587033144922904, 0.15811388300841894]],\n",
       " 'ivl': ['0', '3', '4', '1', '2', '5'],\n",
       " 'leaves': [0, 3, 4, 1, 2, 5],\n",
       " 'color_list': ['g', 'g', 'g', 'b', 'b']}"
      ]
     },
     "execution_count": 80,
     "metadata": {},
     "output_type": "execute_result"
    },
    {
     "data": {
      "image/png": "[encoded data removed]",
      "text/plain": [
       "<Figure size 432x288 with 1 Axes>"
      ]
     },
     "metadata": {
      "needs_background": "light"
     },
     "output_type": "display_data"
    }
   ],
   "source": [
    "dendrogram(link_matrix)"
   ]
  },
  {
   "cell_type": "code",
   "execution_count": 81,
   "metadata": {},
   "outputs": [
    {
     "data": {
      "text/plain": [
       "0.44512293520805063"
      ]
     },
     "execution_count": 81,
     "metadata": {},
     "output_type": "execute_result"
    }
   ],
   "source": [
    "c, coph_dists = cophenet(link_matrix, pdist(samp))\n",
    "c"
   ]
  },
  {
   "cell_type": "code",
   "execution_count": 92,
   "metadata": {},
   "outputs": [
    {
     "data": {
      "text/plain": [
       "array([3, 1, 1, 2, 1, 1], dtype=int32)"
      ]
     },
     "execution_count": 92,
     "metadata": {},
     "output_type": "execute_result"
    }
   ],
   "source": [
    "clusters = fcluster(link_matrix, 0.15, criterion='distance')\n",
    "clusters"
   ]
  },
  {
   "cell_type": "code",
   "execution_count": null,
   "metadata": {},
   "outputs": [],
   "source": []
  },
  {
   "cell_type": "code",
   "execution_count": 101,
   "metadata": {},
   "outputs": [],
   "source": [
    "data_sc=data_sc.drop('Label',1)"
   ]
  },
  {
   "cell_type": "code",
   "execution_count": 83,
   "metadata": {},
   "outputs": [],
   "source": [
    "linkage_matrix = linkage(data_sc, 'ward')"
   ]
  },
  {
   "cell_type": "code",
   "execution_count": 84,
   "metadata": {},
   "outputs": [],
   "source": [
    "link=pd.DataFrame(linkage_matrix)\n",
    "#link.head(50)"
   ]
  },
  {
   "cell_type": "code",
   "execution_count": 11,
   "metadata": {},
   "outputs": [],
   "source": [
    "#print(data_sc.iloc[4212,:])\n",
    "#print(data_sc.iloc[6147,:])"
   ]
  },
  {
   "cell_type": "code",
   "execution_count": null,
   "metadata": {},
   "outputs": [],
   "source": []
  },
  {
   "cell_type": "code",
   "execution_count": 85,
   "metadata": {},
   "outputs": [
    {
     "data": {
      "text/plain": [
       "{'icoord': [[15.0, 15.0, 25.0, 25.0],\n",
       "  [5.0, 5.0, 20.0, 20.0],\n",
       "  [55.0, 55.0, 65.0, 65.0],\n",
       "  [45.0, 45.0, 60.0, 60.0],\n",
       "  [35.0, 35.0, 52.5, 52.5],\n",
       "  [12.5, 12.5, 43.75, 43.75],\n",
       "  [85.0, 85.0, 95.0, 95.0],\n",
       "  [75.0, 75.0, 90.0, 90.0],\n",
       "  [135.0, 135.0, 145.0, 145.0],\n",
       "  [125.0, 125.0, 140.0, 140.0],\n",
       "  [115.0, 115.0, 132.5, 132.5],\n",
       "  [105.0, 105.0, 123.75, 123.75],\n",
       "  [82.5, 82.5, 114.375, 114.375],\n",
       "  [28.125, 28.125, 98.4375, 98.4375],\n",
       "  [155.0, 155.0, 165.0, 165.0],\n",
       "  [195.0, 195.0, 205.0, 205.0],\n",
       "  [185.0, 185.0, 200.0, 200.0],\n",
       "  [175.0, 175.0, 192.5, 192.5],\n",
       "  [225.0, 225.0, 235.0, 235.0],\n",
       "  [215.0, 215.0, 230.0, 230.0],\n",
       "  [245.0, 245.0, 255.0, 255.0],\n",
       "  [222.5, 222.5, 250.0, 250.0],\n",
       "  [183.75, 183.75, 236.25, 236.25],\n",
       "  [160.0, 160.0, 210.0, 210.0],\n",
       "  [265.0, 265.0, 275.0, 275.0],\n",
       "  [295.0, 295.0, 305.0, 305.0],\n",
       "  [285.0, 285.0, 300.0, 300.0],\n",
       "  [270.0, 270.0, 292.5, 292.5],\n",
       "  [325.0, 325.0, 335.0, 335.0],\n",
       "  [315.0, 315.0, 330.0, 330.0],\n",
       "  [355.0, 355.0, 365.0, 365.0],\n",
       "  [385.0, 385.0, 395.0, 395.0],\n",
       "  [375.0, 375.0, 390.0, 390.0],\n",
       "  [360.0, 360.0, 382.5, 382.5],\n",
       "  [345.0, 345.0, 371.25, 371.25],\n",
       "  [322.5, 322.5, 358.125, 358.125],\n",
       "  [281.25, 281.25, 340.3125, 340.3125],\n",
       "  [185.0, 185.0, 310.78125, 310.78125],\n",
       "  [63.28125, 63.28125, 247.890625, 247.890625]],\n",
       " 'dcoord': [[0.0, 36.736375762452035, 36.736375762452035, 0.0],\n",
       "  [0.0, 59.59151618527951, 59.59151618527951, 36.736375762452035],\n",
       "  [0.0, 39.03950431203318, 39.03950431203318, 0.0],\n",
       "  [0.0, 44.52045849204587, 44.52045849204587, 39.03950431203318],\n",
       "  [0.0, 62.72826568067094, 62.72826568067094, 44.52045849204587],\n",
       "  [59.59151618527951, 94.97556911607363, 94.97556911607363, 62.72826568067094],\n",
       "  [0.0, 30.02379949853628, 30.02379949853628, 0.0],\n",
       "  [0.0, 37.04352881632922, 37.04352881632922, 30.02379949853628],\n",
       "  [0.0, 31.690139117911297, 31.690139117911297, 0.0],\n",
       "  [0.0, 45.42112893747247, 45.42112893747247, 31.690139117911297],\n",
       "  [0.0, 49.05077856935824, 49.05077856935824, 45.42112893747247],\n",
       "  [0.0, 60.2110320318064, 60.2110320318064, 49.05077856935824],\n",
       "  [37.04352881632922,\n",
       "   115.69532287763614,\n",
       "   115.69532287763614,\n",
       "   60.2110320318064],\n",
       "  [94.97556911607363,\n",
       "   149.7198850188899,\n",
       "   149.7198850188899,\n",
       "   115.69532287763614],\n",
       "  [0.0, 32.71907543929177, 32.71907543929177, 0.0],\n",
       "  [0.0, 30.629176235150442, 30.629176235150442, 0.0],\n",
       "  [0.0, 40.10703583434881, 40.10703583434881, 30.629176235150442],\n",
       "  [0.0, 48.98975985214242, 48.98975985214242, 40.10703583434881],\n",
       "  [0.0, 35.266824446007085, 35.266824446007085, 0.0],\n",
       "  [0.0, 41.80906515089007, 41.80906515089007, 35.266824446007085],\n",
       "  [0.0, 44.07111012605699, 44.07111012605699, 0.0],\n",
       "  [41.80906515089007, 60.57396319115502, 60.57396319115502, 44.07111012605699],\n",
       "  [48.98975985214242, 82.08644108366637, 82.08644108366637, 60.57396319115502],\n",
       "  [32.71907543929177, 93.07339839566045, 93.07339839566045, 82.08644108366637],\n",
       "  [0.0, 29.34693254553138, 29.34693254553138, 0.0],\n",
       "  [0.0, 30.349044674521384, 30.349044674521384, 0.0],\n",
       "  [0.0, 40.71438215832266, 40.71438215832266, 30.349044674521384],\n",
       "  [29.34693254553138, 55.30987647324622, 55.30987647324622, 40.71438215832266],\n",
       "  [0.0, 41.18421438654371, 41.18421438654371, 0.0],\n",
       "  [0.0, 46.26193669892542, 46.26193669892542, 41.18421438654371],\n",
       "  [0.0, 33.91890667303718, 33.91890667303718, 0.0],\n",
       "  [0.0, 35.98979397019294, 35.98979397019294, 0.0],\n",
       "  [0.0, 42.97440422074596, 42.97440422074596, 35.98979397019294],\n",
       "  [33.91890667303718, 52.23128962588827, 52.23128962588827, 42.97440422074596],\n",
       "  [0.0, 58.31433417573242, 58.31433417573242, 52.23128962588827],\n",
       "  [46.26193669892542,\n",
       "   105.23798325390234,\n",
       "   105.23798325390234,\n",
       "   58.31433417573242],\n",
       "  [55.30987647324622,\n",
       "   118.10692758836404,\n",
       "   118.10692758836404,\n",
       "   105.23798325390234],\n",
       "  [93.07339839566045,\n",
       "   163.25619484033885,\n",
       "   163.25619484033885,\n",
       "   118.10692758836404],\n",
       "  [149.7198850188899,\n",
       "   202.85754040456746,\n",
       "   202.85754040456746,\n",
       "   163.25619484033885]],\n",
       " 'ivl': ['(480)',\n",
       "  '(90)',\n",
       "  '(282)',\n",
       "  '(368)',\n",
       "  '(506)',\n",
       "  '(322)',\n",
       "  '(683)',\n",
       "  '(4)',\n",
       "  '(7)',\n",
       "  '(12)',\n",
       "  '(10)',\n",
       "  '(87)',\n",
       "  '(181)',\n",
       "  '(25)',\n",
       "  '(111)',\n",
       "  '(13)',\n",
       "  '(6)',\n",
       "  '(11)',\n",
       "  '(20)',\n",
       "  '(13)',\n",
       "  '(61)',\n",
       "  '(88)',\n",
       "  '(279)',\n",
       "  '(261)',\n",
       "  '(146)',\n",
       "  '(224)',\n",
       "  '(91)',\n",
       "  '(212)',\n",
       "  '(107)',\n",
       "  '(188)',\n",
       "  '(81)',\n",
       "  '(169)',\n",
       "  '(450)',\n",
       "  '(421)',\n",
       "  '(74)',\n",
       "  '(344)',\n",
       "  '(271)',\n",
       "  '(290)',\n",
       "  '(813)',\n",
       "  '(835)'],\n",
       " 'leaves': [17225,\n",
       "  17196,\n",
       "  17221,\n",
       "  17206,\n",
       "  17194,\n",
       "  17219,\n",
       "  17229,\n",
       "  17158,\n",
       "  17202,\n",
       "  17215,\n",
       "  17223,\n",
       "  17228,\n",
       "  17214,\n",
       "  17183,\n",
       "  17231,\n",
       "  17064,\n",
       "  17192,\n",
       "  17226,\n",
       "  17150,\n",
       "  17160,\n",
       "  17189,\n",
       "  17211,\n",
       "  17171,\n",
       "  17220,\n",
       "  17222,\n",
       "  17230,\n",
       "  17156,\n",
       "  17217,\n",
       "  17216,\n",
       "  17177,\n",
       "  17208,\n",
       "  17168,\n",
       "  17176,\n",
       "  17224,\n",
       "  17186,\n",
       "  17153,\n",
       "  17204,\n",
       "  17227,\n",
       "  17200,\n",
       "  17212],\n",
       " 'color_list': ['g',\n",
       "  'g',\n",
       "  'g',\n",
       "  'g',\n",
       "  'g',\n",
       "  'g',\n",
       "  'r',\n",
       "  'r',\n",
       "  'r',\n",
       "  'r',\n",
       "  'r',\n",
       "  'r',\n",
       "  'r',\n",
       "  'b',\n",
       "  'c',\n",
       "  'c',\n",
       "  'c',\n",
       "  'c',\n",
       "  'c',\n",
       "  'c',\n",
       "  'c',\n",
       "  'c',\n",
       "  'c',\n",
       "  'c',\n",
       "  'm',\n",
       "  'm',\n",
       "  'm',\n",
       "  'm',\n",
       "  'm',\n",
       "  'm',\n",
       "  'm',\n",
       "  'm',\n",
       "  'm',\n",
       "  'm',\n",
       "  'm',\n",
       "  'm',\n",
       "  'm',\n",
       "  'b',\n",
       "  'b']}"
      ]
     },
     "execution_count": 85,
     "metadata": {},
     "output_type": "execute_result"
    },
    {
     "data": {
      "image/png": "[encoded data removed]",
      "text/plain": [
       "<Figure size 720x576 with 1 Axes>"
      ]
     },
     "metadata": {
      "needs_background": "light"
     },
     "output_type": "display_data"
    }
   ],
   "source": [
    "from matplotlib import pyplot as plt\n",
    "plt.figure(figsize=(10,8))\n",
    "dendrogram(linkage_matrix,truncate_mode='lastp',p=40)"
   ]
  },
  {
   "cell_type": "code",
   "execution_count": 15,
   "metadata": {},
   "outputs": [],
   "source": [
    "mod=AgglomerativeClustering(4)\n",
    "mod.fit(data_sc)\n",
    "lab1=mod.labels_"
   ]
  },
  {
   "cell_type": "code",
   "execution_count": 16,
   "metadata": {},
   "outputs": [],
   "source": [
    "lab1=pd.DataFrame(lab1)\n"
   ]
  },
  {
   "cell_type": "code",
   "execution_count": 17,
   "metadata": {},
   "outputs": [
    {
     "data": {
      "text/plain": [
       "0    4346\n",
       "3    2731\n",
       "2    1122\n",
       "1     437\n",
       "Name: 0, dtype: int64"
      ]
     },
     "execution_count": 17,
     "metadata": {},
     "output_type": "execute_result"
    }
   ],
   "source": [
    "lab1[0].value_counts()"
   ]
  },
  {
   "cell_type": "code",
   "execution_count": 18,
   "metadata": {},
   "outputs": [
    {
     "data": {
      "text/plain": [
       "0.35214260963112154"
      ]
     },
     "execution_count": 18,
     "metadata": {},
     "output_type": "execute_result"
    }
   ],
   "source": [
    "from scipy.cluster.hierarchy import cophenet\n",
    "from scipy.spatial.distance import pdist\n",
    "\n",
    "c, coph_dists = cophenet(linkage_matrix, pdist(data_sc))\n",
    "c"
   ]
  },
  {
   "cell_type": "code",
   "execution_count": 93,
   "metadata": {},
   "outputs": [
    {
     "data": {
      "text/plain": [
       "array([4, 3, 1, ..., 4, 4, 4], dtype=int32)"
      ]
     },
     "execution_count": 93,
     "metadata": {},
     "output_type": "execute_result"
    }
   ],
   "source": [
    "clusters = fcluster(linkage_matrix, 125, criterion='distance')\n",
    "clusters"
   ]
  },
  {
   "cell_type": "code",
   "execution_count": 94,
   "metadata": {},
   "outputs": [],
   "source": [
    "clusters=pd.DataFrame(clusters)"
   ]
  },
  {
   "cell_type": "code",
   "execution_count": 96,
   "metadata": {},
   "outputs": [
    {
     "data": {
      "text/plain": [
       "4    4346\n",
       "1    2731\n",
       "3    1122\n",
       "2     437\n",
       "Name: 0, dtype: int64"
      ]
     },
     "execution_count": 96,
     "metadata": {},
     "output_type": "execute_result"
    }
   ],
   "source": [
    "clusters[0].value_counts()"
   ]
  },
  {
   "cell_type": "code",
   "execution_count": 226,
   "metadata": {},
   "outputs": [
    {
     "data": {
      "text/plain": [
       "<matplotlib.image.AxesImage at 0x1a58512e608>"
      ]
     },
     "execution_count": 226,
     "metadata": {},
     "output_type": "execute_result"
    },
    {
     "data": {
      "image/png": "[encoded data removed]",
      "text/plain": [
       "<Figure size 432x288 with 1 Axes>"
      ]
     },
     "metadata": {
      "needs_background": "light"
     },
     "output_type": "display_data"
    }
   ],
   "source": [
    "img=plt.imread('img.jpg')\n",
    "plt.figure()\n",
    "plt.imshow(img)"
   ]
  },
  {
   "cell_type": "code",
   "execution_count": 249,
   "metadata": {},
   "outputs": [],
   "source": [
    "x,y,z=img.shape\n",
    "img1=img.reshape(x*y,z)"
   ]
  },
  {
   "cell_type": "code",
   "execution_count": 250,
   "metadata": {},
   "outputs": [
    {
     "data": {
      "text/plain": [
       "(50400, 3)"
      ]
     },
     "execution_count": 250,
     "metadata": {},
     "output_type": "execute_result"
    }
   ],
   "source": [
    "img1.shape"
   ]
  },
  {
   "cell_type": "code",
   "execution_count": 251,
   "metadata": {},
   "outputs": [],
   "source": [
    "clust=KMeans(n_clusters=2,random_state=0)\n",
    "clust.fit(img1)\n",
    "cent=clust.cluster_centers_\n",
    "lab=clust.labels_"
   ]
  },
  {
   "cell_type": "code",
   "execution_count": 252,
   "metadata": {},
   "outputs": [
    {
     "data": {
      "text/plain": [
       "array([0, 0, 0, 0, 0])"
      ]
     },
     "execution_count": 252,
     "metadata": {},
     "output_type": "execute_result"
    }
   ],
   "source": [
    "lab[:5]"
   ]
  },
  {
   "cell_type": "code",
   "execution_count": 253,
   "metadata": {},
   "outputs": [
    {
     "data": {
      "text/plain": [
       "<matplotlib.image.AxesImage at 0x1a585509e08>"
      ]
     },
     "execution_count": 253,
     "metadata": {},
     "output_type": "execute_result"
    },
    {
     "data": {
      "image/png": "[encoded data removed]",
      "text/plain": [
       "<Figure size 432x288 with 1 Axes>"
      ]
     },
     "metadata": {
      "needs_background": "light"
     },
     "output_type": "display_data"
    }
   ],
   "source": [
    "seg=cent[lab].reshape(x,y,z)\n",
    "plt.imshow(seg.astype(np.uint8))"
   ]
  },
  {
   "cell_type": "code",
   "execution_count": 254,
   "metadata": {},
   "outputs": [],
   "source": [
    "seg[seg==cent[0]]=0\n",
    "seg[seg==cent[1]]=1"
   ]
  },
  {
   "cell_type": "code",
   "execution_count": 255,
   "metadata": {},
   "outputs": [
    {
     "data": {
      "text/plain": [
       "<matplotlib.image.AxesImage at 0x1a5855566c8>"
      ]
     },
     "execution_count": 255,
     "metadata": {},
     "output_type": "execute_result"
    },
    {
     "data": {
      "image/png": "[encoded data removed]",
      "text/plain": [
       "<Figure size 432x288 with 1 Axes>"
      ]
     },
     "metadata": {
      "needs_background": "light"
     },
     "output_type": "display_data"
    }
   ],
   "source": [
    "plt.imshow(seg)"
   ]
  },
  {
   "cell_type": "code",
   "execution_count": null,
   "metadata": {},
   "outputs": [],
   "source": []
  },
  {
   "cell_type": "code",
   "execution_count": 232,
   "metadata": {},
   "outputs": [
    {
     "name": "stdout",
     "output_type": "stream",
     "text": [
      "[[1 2]\n",
      " [3 4]\n",
      " [5 6]]\n"
     ]
    }
   ],
   "source": [
    "import numpy as np\n",
    "from numpy.linalg import eig\n",
    "A = np.array([[1, 2], [3, 4], [5, 6]])\n",
    "print(A)"
   ]
  },
  {
   "cell_type": "code",
   "execution_count": 233,
   "metadata": {},
   "outputs": [
    {
     "name": "stdout",
     "output_type": "stream",
     "text": [
      "[3. 4.]\n"
     ]
    }
   ],
   "source": [
    "M = np.mean(A, axis=0)\n",
    "print(M)"
   ]
  },
  {
   "cell_type": "code",
   "execution_count": 234,
   "metadata": {},
   "outputs": [
    {
     "name": "stdout",
     "output_type": "stream",
     "text": [
      "[[-2. -2.]\n",
      " [ 0.  0.]\n",
      " [ 2.  2.]]\n"
     ]
    }
   ],
   "source": [
    "C = A - M\n",
    "print(C)"
   ]
  },
  {
   "cell_type": "code",
   "execution_count": 235,
   "metadata": {},
   "outputs": [
    {
     "name": "stdout",
     "output_type": "stream",
     "text": [
      "[[4. 4.]\n",
      " [4. 4.]]\n"
     ]
    }
   ],
   "source": [
    "V = np.cov(C.T)\n",
    "print(V)"
   ]
  },
  {
   "cell_type": "code",
   "execution_count": 236,
   "metadata": {},
   "outputs": [
    {
     "name": "stdout",
     "output_type": "stream",
     "text": [
      "[[ 0.70710678 -0.70710678]\n",
      " [ 0.70710678  0.70710678]]\n",
      "[8. 0.]\n"
     ]
    }
   ],
   "source": [
    "# eigendecomposition of covariance matrix\n",
    "values, vectors = eig(V)\n",
    "print(vectors)\n",
    "print(values)"
   ]
  },
  {
   "cell_type": "code",
   "execution_count": 172,
   "metadata": {},
   "outputs": [
    {
     "name": "stdout",
     "output_type": "stream",
     "text": [
      "[[-2.82842712  0.        ]\n",
      " [ 0.          0.        ]\n",
      " [ 2.82842712  0.        ]]\n"
     ]
    }
   ],
   "source": [
    "P = vectors.T.dot(C.T)\n",
    "print(P.T)"
   ]
  },
  {
   "cell_type": "code",
   "execution_count": 173,
   "metadata": {},
   "outputs": [
    {
     "data": {
      "text/plain": [
       "array([[-2.82842712,  0.        ],\n",
       "       [ 0.        ,  0.        ],\n",
       "       [ 2.82842712,  0.        ]])"
      ]
     },
     "execution_count": 173,
     "metadata": {},
     "output_type": "execute_result"
    }
   ],
   "source": [
    "from sklearn.decomposition import PCA\n",
    "pca=PCA(2)\n",
    "pcadata=pca.fit_transform(A)\n",
    "pcadata"
   ]
  },
  {
   "cell_type": "code",
   "execution_count": 174,
   "metadata": {},
   "outputs": [
    {
     "data": {
      "text/plain": [
       "array([[ 0.70710678,  0.70710678],\n",
       "       [-0.70710678,  0.70710678]])"
      ]
     },
     "execution_count": 174,
     "metadata": {},
     "output_type": "execute_result"
    }
   ],
   "source": [
    "pca.components_"
   ]
  },
  {
   "cell_type": "code",
   "execution_count": 175,
   "metadata": {},
   "outputs": [
    {
     "data": {
      "text/plain": [
       "array([8., 0.])"
      ]
     },
     "execution_count": 175,
     "metadata": {},
     "output_type": "execute_result"
    }
   ],
   "source": [
    "pca.explained_variance_"
   ]
  },
  {
   "cell_type": "code",
   "execution_count": 176,
   "metadata": {},
   "outputs": [
    {
     "data": {
      "text/plain": [
       "array([1., 0.])"
      ]
     },
     "execution_count": 176,
     "metadata": {},
     "output_type": "execute_result"
    }
   ],
   "source": [
    "pca.explained_variance_ratio_"
   ]
  },
  {
   "cell_type": "code",
   "execution_count": 237,
   "metadata": {},
   "outputs": [
    {
     "data": {
      "text/html": [
       "<div>\n",
       "<style scoped>\n",
       "    .dataframe tbody tr th:only-of-type {\n",
       "        vertical-align: middle;\n",
       "    }\n",
       "\n",
       "    .dataframe tbody tr th {\n",
       "        vertical-align: top;\n",
       "    }\n",
       "\n",
       "    .dataframe thead th {\n",
       "        text-align: right;\n",
       "    }\n",
       "</style>\n",
       "<table border=\"1\" class=\"dataframe\">\n",
       "  <thead>\n",
       "    <tr style=\"text-align: right;\">\n",
       "      <th></th>\n",
       "      <th>BALANCE</th>\n",
       "      <th>BALANCE_FREQUENCY</th>\n",
       "      <th>PURCHASES</th>\n",
       "      <th>ONEOFF_PURCHASES</th>\n",
       "      <th>INSTALLMENTS_PURCHASES</th>\n",
       "      <th>CASH_ADVANCE</th>\n",
       "      <th>PURCHASES_FREQUENCY</th>\n",
       "      <th>ONEOFF_PURCHASES_FREQUENCY</th>\n",
       "      <th>PURCHASES_INSTALLMENTS_FREQUENCY</th>\n",
       "      <th>CASH_ADVANCE_FREQUENCY</th>\n",
       "      <th>CASH_ADVANCE_TRX</th>\n",
       "      <th>PURCHASES_TRX</th>\n",
       "      <th>CREDIT_LIMIT</th>\n",
       "      <th>PAYMENTS</th>\n",
       "      <th>MINIMUM_PAYMENTS</th>\n",
       "      <th>PRC_FULL_PAYMENT</th>\n",
       "      <th>TENURE</th>\n",
       "    </tr>\n",
       "    <tr>\n",
       "      <th>CUST_ID</th>\n",
       "      <th></th>\n",
       "      <th></th>\n",
       "      <th></th>\n",
       "      <th></th>\n",
       "      <th></th>\n",
       "      <th></th>\n",
       "      <th></th>\n",
       "      <th></th>\n",
       "      <th></th>\n",
       "      <th></th>\n",
       "      <th></th>\n",
       "      <th></th>\n",
       "      <th></th>\n",
       "      <th></th>\n",
       "      <th></th>\n",
       "      <th></th>\n",
       "      <th></th>\n",
       "    </tr>\n",
       "  </thead>\n",
       "  <tbody>\n",
       "    <tr>\n",
       "      <th>C10001</th>\n",
       "      <td>-0.744625</td>\n",
       "      <td>-0.370047</td>\n",
       "      <td>-0.429184</td>\n",
       "      <td>-0.35916</td>\n",
       "      <td>-0.354826</td>\n",
       "      <td>-0.468655</td>\n",
       "      <td>-0.820769</td>\n",
       "      <td>-0.68628</td>\n",
       "      <td>-0.717179</td>\n",
       "      <td>-0.681953</td>\n",
       "      <td>-0.479437</td>\n",
       "      <td>-0.517623</td>\n",
       "      <td>-0.962575</td>\n",
       "      <td>-0.543942</td>\n",
       "      <td>-0.305508</td>\n",
       "      <td>-0.537727</td>\n",
       "      <td>0.355181</td>\n",
       "    </tr>\n",
       "    <tr>\n",
       "      <th>C10002</th>\n",
       "      <td>0.764152</td>\n",
       "      <td>0.067679</td>\n",
       "      <td>-0.473208</td>\n",
       "      <td>-0.35916</td>\n",
       "      <td>-0.458839</td>\n",
       "      <td>2.568556</td>\n",
       "      <td>-1.236139</td>\n",
       "      <td>-0.68628</td>\n",
       "      <td>-0.926522</td>\n",
       "      <td>0.557022</td>\n",
       "      <td>0.099258</td>\n",
       "      <td>-0.597054</td>\n",
       "      <td>0.677204</td>\n",
       "      <td>0.796852</td>\n",
       "      <td>0.087689</td>\n",
       "      <td>0.212380</td>\n",
       "      <td>0.355181</td>\n",
       "    </tr>\n",
       "  </tbody>\n",
       "</table>\n",
       "</div>"
      ],
      "text/plain": [
       "          BALANCE  BALANCE_FREQUENCY  PURCHASES  ONEOFF_PURCHASES  \\\n",
       "CUST_ID                                                             \n",
       "C10001  -0.744625          -0.370047  -0.429184          -0.35916   \n",
       "C10002   0.764152           0.067679  -0.473208          -0.35916   \n",
       "\n",
       "         INSTALLMENTS_PURCHASES  CASH_ADVANCE  PURCHASES_FREQUENCY  \\\n",
       "CUST_ID                                                              \n",
       "C10001                -0.354826     -0.468655            -0.820769   \n",
       "C10002                -0.458839      2.568556            -1.236139   \n",
       "\n",
       "         ONEOFF_PURCHASES_FREQUENCY  PURCHASES_INSTALLMENTS_FREQUENCY  \\\n",
       "CUST_ID                                                                 \n",
       "C10001                     -0.68628                         -0.717179   \n",
       "C10002                     -0.68628                         -0.926522   \n",
       "\n",
       "         CASH_ADVANCE_FREQUENCY  CASH_ADVANCE_TRX  PURCHASES_TRX  \\\n",
       "CUST_ID                                                            \n",
       "C10001                -0.681953         -0.479437      -0.517623   \n",
       "C10002                 0.557022          0.099258      -0.597054   \n",
       "\n",
       "         CREDIT_LIMIT  PAYMENTS  MINIMUM_PAYMENTS  PRC_FULL_PAYMENT    TENURE  \n",
       "CUST_ID                                                                        \n",
       "C10001      -0.962575 -0.543942         -0.305508         -0.537727  0.355181  \n",
       "C10002       0.677204  0.796852          0.087689          0.212380  0.355181  "
      ]
     },
     "execution_count": 237,
     "metadata": {},
     "output_type": "execute_result"
    }
   ],
   "source": [
    "data_sc.head(2)"
   ]
  },
  {
   "cell_type": "code",
   "execution_count": 238,
   "metadata": {},
   "outputs": [
    {
     "data": {
      "text/plain": [
       "(8636, 17)"
      ]
     },
     "execution_count": 238,
     "metadata": {},
     "output_type": "execute_result"
    }
   ],
   "source": [
    "data_sc.shape"
   ]
  },
  {
   "cell_type": "code",
   "execution_count": 239,
   "metadata": {},
   "outputs": [],
   "source": [
    "from sklearn.decomposition import PCA\n",
    "pca=PCA(17)\n",
    "pcadata=pca.fit_transform(data_sc)"
   ]
  },
  {
   "cell_type": "code",
   "execution_count": 242,
   "metadata": {},
   "outputs": [
    {
     "data": {
      "text/html": [
       "<div>\n",
       "<style scoped>\n",
       "    .dataframe tbody tr th:only-of-type {\n",
       "        vertical-align: middle;\n",
       "    }\n",
       "\n",
       "    .dataframe tbody tr th {\n",
       "        vertical-align: top;\n",
       "    }\n",
       "\n",
       "    .dataframe thead th {\n",
       "        text-align: right;\n",
       "    }\n",
       "</style>\n",
       "<table border=\"1\" class=\"dataframe\">\n",
       "  <thead>\n",
       "    <tr style=\"text-align: right;\">\n",
       "      <th></th>\n",
       "      <th>0</th>\n",
       "    </tr>\n",
       "  </thead>\n",
       "  <tbody>\n",
       "    <tr>\n",
       "      <th>0</th>\n",
       "      <td>0.27</td>\n",
       "    </tr>\n",
       "    <tr>\n",
       "      <th>1</th>\n",
       "      <td>0.20</td>\n",
       "    </tr>\n",
       "    <tr>\n",
       "      <th>2</th>\n",
       "      <td>0.09</td>\n",
       "    </tr>\n",
       "    <tr>\n",
       "      <th>3</th>\n",
       "      <td>0.08</td>\n",
       "    </tr>\n",
       "    <tr>\n",
       "      <th>4</th>\n",
       "      <td>0.06</td>\n",
       "    </tr>\n",
       "    <tr>\n",
       "      <th>5</th>\n",
       "      <td>0.06</td>\n",
       "    </tr>\n",
       "    <tr>\n",
       "      <th>6</th>\n",
       "      <td>0.05</td>\n",
       "    </tr>\n",
       "    <tr>\n",
       "      <th>7</th>\n",
       "      <td>0.04</td>\n",
       "    </tr>\n",
       "    <tr>\n",
       "      <th>8</th>\n",
       "      <td>0.04</td>\n",
       "    </tr>\n",
       "    <tr>\n",
       "      <th>9</th>\n",
       "      <td>0.03</td>\n",
       "    </tr>\n",
       "    <tr>\n",
       "      <th>10</th>\n",
       "      <td>0.02</td>\n",
       "    </tr>\n",
       "    <tr>\n",
       "      <th>11</th>\n",
       "      <td>0.02</td>\n",
       "    </tr>\n",
       "    <tr>\n",
       "      <th>12</th>\n",
       "      <td>0.01</td>\n",
       "    </tr>\n",
       "    <tr>\n",
       "      <th>13</th>\n",
       "      <td>0.01</td>\n",
       "    </tr>\n",
       "    <tr>\n",
       "      <th>14</th>\n",
       "      <td>0.01</td>\n",
       "    </tr>\n",
       "    <tr>\n",
       "      <th>15</th>\n",
       "      <td>0.00</td>\n",
       "    </tr>\n",
       "    <tr>\n",
       "      <th>16</th>\n",
       "      <td>0.00</td>\n",
       "    </tr>\n",
       "  </tbody>\n",
       "</table>\n",
       "</div>"
      ],
      "text/plain": [
       "       0\n",
       "0   0.27\n",
       "1   0.20\n",
       "2   0.09\n",
       "3   0.08\n",
       "4   0.06\n",
       "5   0.06\n",
       "6   0.05\n",
       "7   0.04\n",
       "8   0.04\n",
       "9   0.03\n",
       "10  0.02\n",
       "11  0.02\n",
       "12  0.01\n",
       "13  0.01\n",
       "14  0.01\n",
       "15  0.00\n",
       "16  0.00"
      ]
     },
     "execution_count": 242,
     "metadata": {},
     "output_type": "execute_result"
    }
   ],
   "source": [
    "ex_ratio=pd.DataFrame(pca.explained_variance_ratio_).round(2)\n",
    "ex_ratio"
   ]
  },
  {
   "cell_type": "code",
   "execution_count": 137,
   "metadata": {},
   "outputs": [
    {
     "data": {
      "text/plain": [
       "0.92"
      ]
     },
     "execution_count": 137,
     "metadata": {},
     "output_type": "execute_result"
    }
   ],
   "source": [
    "ex_ratio[0].head(10).sum()"
   ]
  },
  {
   "cell_type": "code",
   "execution_count": 245,
   "metadata": {},
   "outputs": [],
   "source": [
    "pca10=pcadata[:,:10]"
   ]
  },
  {
   "cell_type": "code",
   "execution_count": 246,
   "metadata": {},
   "outputs": [
    {
     "data": {
      "text/plain": [
       "(8636, 10)"
      ]
     },
     "execution_count": 246,
     "metadata": {},
     "output_type": "execute_result"
    }
   ],
   "source": [
    "pca10.shape"
   ]
  },
  {
   "cell_type": "code",
   "execution_count": 247,
   "metadata": {},
   "outputs": [],
   "source": [
    "from sklearn.model_selection import train_test_split\n",
    "xtrain,xtest,ytrain,ytest=train_test_split(pca10,out,test_size=0.3,random_state=48,stratify=out)\n",
    "from sklearn.ensemble import RandomForestClassifier\n",
    "rf_mod=RandomForestClassifier()\n",
    "rf_mod.fit(xtrain,ytrain)\n",
    "ypred=rf_mod.predict(xtest)"
   ]
  },
  {
   "cell_type": "code",
   "execution_count": 157,
   "metadata": {},
   "outputs": [
    {
     "name": "stdout",
     "output_type": "stream",
     "text": [
      "              precision    recall  f1-score   support\n",
      "\n",
      "           0       0.99      0.99      0.99      1759\n",
      "           1       0.97      0.98      0.97       363\n",
      "           2       0.98      0.99      0.98       469\n",
      "\n",
      "    accuracy                           0.99      2591\n",
      "   macro avg       0.98      0.98      0.98      2591\n",
      "weighted avg       0.99      0.99      0.99      2591\n",
      "\n"
     ]
    }
   ],
   "source": [
    "print(classification_report(ytest,ypred))"
   ]
  },
  {
   "cell_type": "code",
   "execution_count": 248,
   "metadata": {},
   "outputs": [
    {
     "name": "stdout",
     "output_type": "stream",
     "text": [
      "              precision    recall  f1-score   support\n",
      "\n",
      "           0       0.98      0.98      0.98      1759\n",
      "           1       0.95      0.93      0.94       363\n",
      "           2       0.95      0.96      0.95       469\n",
      "\n",
      "    accuracy                           0.97      2591\n",
      "   macro avg       0.96      0.96      0.96      2591\n",
      "weighted avg       0.97      0.97      0.97      2591\n",
      "\n"
     ]
    }
   ],
   "source": [
    "from sklearn.model_selection import train_test_split\n",
    "xtrain,xtest,ytrain,ytest=train_test_split(inp,out,test_size=0.3,random_state=48,stratify=out)\n",
    "from sklearn.ensemble import RandomForestClassifier\n",
    "rf_mod=RandomForestClassifier()\n",
    "rf_mod.fit(xtrain,ytrain)\n",
    "ypred=rf_mod.predict(xtest)\n",
    "print(classification_report(ytest,ypred))"
   ]
  },
  {
   "cell_type": "code",
   "execution_count": null,
   "metadata": {},
   "outputs": [],
   "source": []
  },
  {
   "cell_type": "code",
   "execution_count": null,
   "metadata": {},
   "outputs": [],
   "source": []
  }
 ],
 "metadata": {
  "kernelspec": {
   "display_name": "Python 3",
   "language": "python",
   "name": "python3"
  },
  "language_info": {
   "codemirror_mode": {
    "name": "ipython",
    "version": 3
   },
   "file_extension": ".py",
   "mimetype": "text/x-python",
   "name": "python",
   "nbconvert_exporter": "python",
   "pygments_lexer": "ipython3",
   "version": "3.7.6"
  }
 },
 "nbformat": 4,
 "nbformat_minor": 4
}
